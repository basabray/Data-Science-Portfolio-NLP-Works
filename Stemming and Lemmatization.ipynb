{
 "cells": [
  {
   "cell_type": "markdown",
   "metadata": {},
   "source": [
    "### Stemming: It is the idea of reducing different forms of a word to it's core form (base word). Words that are derived from one another can be mapped to a base word, especially if they have the same core meaning.\n",
    "- Suppose we have words like goes, going, gone. Now, it is important to get into the base form of all these words because they carry the same meaning."
   ]
  },
  {
   "cell_type": "markdown",
   "metadata": {},
   "source": [
    "Q. What is the difference between stemming and lemmatization?\n",
    "- At their core, both of these techniques tackle the same idea, Reduce a word to its root or base word. But these 2 vwork in different ways.\n",
    "- Stemming Example: 'asking', 'asked' will be reduced to 'ask', if used stemming. But there is a drawback with stemming. It commonly suffers from too much of word cutting. In that case, the meaning of the words will be lost. For example, 'computation --> comput', 'computer --> comput'. So, that is an issue with stemming.\n",
    "- The main difference between stemming and lemmatization is that stem may not be an actual word whereas, lemma is an actual word.\n",
    "- Now as lemmatization converts the word into a meaningful word, it does lot of internal processings and so, it takes more time than stemming.\n"
   ]
  },
  {
   "cell_type": "markdown",
   "metadata": {},
   "source": [
    "Q. What are the specific applications of stemming and lemmatization?\n",
    "- Stemming Example: Restaurant customer review analysis, Sentiment analysis, Email spam or ham classification. Here we just need to extract the base words, we don't need proper meaning\n",
    "- Stemming Example: Chat-bots, question-answer applications where we need to understand the meaning of the words properly"
   ]
  },
  {
   "cell_type": "markdown",
   "metadata": {},
   "source": [
    "Types of stemmer:\n",
    "- There are typically 3 types of stemmers available in NLTK package. 1) Porter Stemmer, 2) Lancaster Stemmer, 3)Snowball Stemmer"
   ]
  },
  {
   "cell_type": "code",
   "execution_count": 1,
   "metadata": {},
   "outputs": [],
   "source": [
    "from nltk.stem import PorterStemmer, LancasterStemmer, SnowballStemmer"
   ]
  },
  {
   "cell_type": "code",
   "execution_count": 6,
   "metadata": {},
   "outputs": [
    {
     "name": "stdout",
     "output_type": "stream",
     "text": [
      "Porter stemmer\n",
      "comput\n",
      "comput\n",
      "comput\n",
      "-------------------------\n",
      "lancaster stemmer\n",
      "comput\n",
      "comput\n",
      "comput\n",
      "-------------------------\n",
      "Snowball stemmer\n",
      "comput\n",
      "comput\n",
      "comput\n"
     ]
    }
   ],
   "source": [
    "lancaster = LancasterStemmer()\n",
    "porter = PorterStemmer()\n",
    "Snowball = SnowballStemmer(\"english\")   #It can work with many diffferent languages, so need to mention the language here\n",
    "\n",
    "print('Porter stemmer')\n",
    "print(porter.stem(\"computer\"))\n",
    "print(porter.stem(\"computed\"))\n",
    "print(porter.stem(\"computations\"))\n",
    "print(\"-------------------------\")  \n",
    "\n",
    "print('lancaster stemmer')\n",
    "print(lancaster.stem(\"computer\"))\n",
    "print(lancaster.stem(\"computed\"))\n",
    "print(porter.stem(\"computations\"))\n",
    "print(\"-------------------------\")\n",
    "\n",
    "print('Snowball stemmer')\n",
    "print(Snowball.stem(\"computer\"))\n",
    "print(Snowball.stem(\"computed\"))\n",
    "print(Snowball.stem(\"computations\"))"
   ]
  },
  {
   "cell_type": "markdown",
   "metadata": {},
   "source": [
    "### Lemmatization: It involves resolving words to their right form or we can say it's actual dictionary form. The ‘base word’ is known as ‘Lemma’. We use WordNet Lemmatizer for Lemmatization in nltk."
   ]
  },
  {
   "cell_type": "code",
   "execution_count": 14,
   "metadata": {},
   "outputs": [
    {
     "name": "stdout",
     "output_type": "stream",
     "text": [
      "running\n",
      "run\n",
      "ran\n"
     ]
    }
   ],
   "source": [
    "from nltk.stem import WordNetLemmatizer\n",
    "lemma = WordNetLemmatizer()\n",
    "print(lemma.lemmatize('running'))\n",
    "print(lemma.lemmatize('runs'))\n",
    "print(lemma.lemmatize('ran'))"
   ]
  },
  {
   "cell_type": "markdown",
   "metadata": {},
   "source": [
    "- In the above output, you must be wondering that no actual root form has been given for any word, this is because they are given without context. We need to provide the context in which we want to lemmatize the word,  that is the 'parts-of-speech (POS)'. This is done by giving the value for 'pos' parameter in 'wordnet_lemmatizer.lemmatize'."
   ]
  },
  {
   "cell_type": "code",
   "execution_count": 15,
   "metadata": {},
   "outputs": [
    {
     "name": "stdout",
     "output_type": "stream",
     "text": [
      "run\n",
      "run\n",
      "run\n"
     ]
    }
   ],
   "source": [
    "print(lemma.lemmatize('running',pos='v'))  #lemmatize wrt it's verb, so given pos='v'\n",
    "print(lemma.lemmatize('runs',pos='v'))\n",
    "print(lemma.lemmatize('ran',pos='v'))"
   ]
  },
  {
   "cell_type": "markdown",
   "metadata": {},
   "source": [
    "- Here, we can see the lemma has changed for the words with the same base word 'run'."
   ]
  },
  {
   "cell_type": "code",
   "execution_count": null,
   "metadata": {},
   "outputs": [],
   "source": []
  }
 ],
 "metadata": {
  "kernelspec": {
   "display_name": "Python 3",
   "language": "python",
   "name": "python3"
  },
  "language_info": {
   "codemirror_mode": {
    "name": "ipython",
    "version": 3
   },
   "file_extension": ".py",
   "mimetype": "text/x-python",
   "name": "python",
   "nbconvert_exporter": "python",
   "pygments_lexer": "ipython3",
   "version": "3.7.6"
  }
 },
 "nbformat": 4,
 "nbformat_minor": 4
}
